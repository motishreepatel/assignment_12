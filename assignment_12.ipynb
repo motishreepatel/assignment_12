{
 "cells": [
  {
   "cell_type": "code",
   "execution_count": null,
   "metadata": {},
   "outputs": [],
   "source": [
    "#Q - 1. In what modes should the PdfFileReader() and PdfFileWriter() File objects will be opened?\n",
    "#Answer:\n",
    "PdfFileReader(): This class is used for reading an existing PDF file. The File object representing the PDF file should be opened in 'rb' mode, which stands for \"read binary.\" This mode allows the PDF file to be read as binary data.\n",
    "PdfFileWriter(): This class is used for creating a new PDF file or modifying an existing one by adding content. The File object representing the output file should be opened in 'wb' mode, which stands for \"write binary.\" This mode allows writing the modified PDF data into the file as binary data."
   ]
  },
  {
   "cell_type": "code",
   "execution_count": null,
   "metadata": {},
   "outputs": [],
   "source": [
    "#Q - 2. From a PdfFileReader object, how do you get a Page object for page 5?\n",
    "#Answer:\n",
    "To get a Page object for page 5 from a PdfFileReader object, you can use the getPage() method and provide the page index as an argument (starting from 0 for the first page)."
   ]
  },
  {
   "cell_type": "code",
   "execution_count": null,
   "metadata": {},
   "outputs": [],
   "source": [
    "#Q- 3. What PdfFileReader variable stores the number of pages in the PDF document?\n",
    "#Answer:\n",
    "The PdfFileReader class of PyPDF2 module provides a variable 'numPages' which contains no. of pages in the PDF document."
   ]
  },
  {
   "cell_type": "code",
   "execution_count": null,
   "metadata": {},
   "outputs": [],
   "source": [
    "#Q - 4. If a PdfFileReader object’s PDF is encrypted with the password swordfish, what must you do before you can obtain Page objects from it?\n",
    "#Answer:\n",
    "If a PdfFileReader object's PDF is encrypted with the password \"swordfish,\" we must provide the correct password using decrypt() method to decrypt the PDF before you can obtain Page objects from it. "
   ]
  },
  {
   "cell_type": "code",
   "execution_count": null,
   "metadata": {},
   "outputs": [],
   "source": [
    "#Q - 5. What methods do you use to rotate a page?\n",
    "#Answer:\n",
    "Two methods we can use to rotate pages in PDF uisng PyPDF2 module:\n",
    "i - rotateClockwise() - This method rotates the pdf in clock wise direction by specifed angle in degree\n",
    "ii - rotateCounterClockwise() - This method rotates the pdf in counter clockwise direction with given angle in degree"
   ]
  },
  {
   "cell_type": "code",
   "execution_count": null,
   "metadata": {},
   "outputs": [],
   "source": [
    "#Q - 6. What is the difference between a Run object and a Paragraph object?\n",
    "#Answer:\n",
    "Run object: A Run object represents a contiguous run of text with the same formatting within a paragraph. It is a part of a paragraph and contains a sequence of characters with consistent formatting.\n",
    "Paragraph object: A Paragraph object represents a single paragraph in a document. It is a block of text with a specific alignment and other paragraph-level properties. A Paragraph object can contain one or more Run objects.\n"
   ]
  },
  {
   "cell_type": "code",
   "execution_count": null,
   "metadata": {},
   "outputs": [],
   "source": [
    "#Q - 7. How do you obtain a list of Paragraph objects for a Document object that’s stored in a variable named doc?\n",
    "#Answer: If document objects stored in a variable named doc then we can obtain list of paragraph objects using 'doc.paragraphs'\n"
   ]
  },
  {
   "cell_type": "code",
   "execution_count": null,
   "metadata": {},
   "outputs": [],
   "source": [
    "#Q - 8. What type of object has bold, underline, italic, strike, and outline variables?\n",
    "#Answer:\n",
    "The Font object in the python-docx library has the bold, underline, italic, strike, and outline variables to control various formatting attributes. "
   ]
  },
  {
   "cell_type": "code",
   "execution_count": null,
   "metadata": {},
   "outputs": [],
   "source": [
    "#Q - 9. What is the difference between False, True, and None for the bold variable?\n",
    "#Answer:\n",
    "The difference between False, True, and None for the bold variable are:\n",
    "\n",
    "False: When bold is set to False, it means that the bold formatting is turned off for the associated run of text. The text will not be displayed in bold.\n",
    "\n",
    "True: When bold is set to True, it means that the bold formatting is turned on for the associated run of text. The text will be displayed in bold.\n",
    "\n",
    "None: When bold is set to None, it means that the bold formatting of the associated run of text is inherited from the style hierarchy defined in the document. The text will be displayed in bold if the style applied to the run or the paragraph has bold formatting defined. If there is no explicit bold formatting defined in the style hierarchy, the text will not be displayed in bold."
   ]
  },
  {
   "cell_type": "code",
   "execution_count": null,
   "metadata": {},
   "outputs": [],
   "source": [
    "#Q - 10. How do you create a Document object for a new Word document?\n",
    "#Answer:\n",
    "To create a Document object for a new Word document using the python-docx library, we can call the Document() constructor without providing any arguments. \n"
   ]
  },
  {
   "cell_type": "code",
   "execution_count": null,
   "metadata": {},
   "outputs": [],
   "source": [
    "#Q - 11. How do you add a paragraph with the text &#39;Hello, there!&#39; to a Document object stored in a variable named doc?\n",
    "#Answer:\n",
    "import docx\n",
    "\n",
    "#create a new document object\n",
    "doc = docx.Document()\n",
    "\n",
    "#To add a paragraph with the text 'Hello,there!'\n",
    "paragraph = doc.add_paragraph('Hello, there!')"
   ]
  },
  {
   "cell_type": "code",
   "execution_count": null,
   "metadata": {},
   "outputs": [],
   "source": [
    "#Q - 12. What integers represent the levels of headings available in Word documents?\n",
    "#Answer:\n",
    "In Word documents, the levels of headings are represented by integers. The standard heading levels in Word documents typically range from 1 to 9, with 1 being the highest level and 9 being the lowest level.\n"
   ]
  }
 ],
 "metadata": {
  "language_info": {
   "name": "python"
  },
  "orig_nbformat": 4
 },
 "nbformat": 4,
 "nbformat_minor": 2
}
